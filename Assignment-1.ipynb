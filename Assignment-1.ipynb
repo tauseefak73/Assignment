{
 "cells": [
  {
   "cell_type": "markdown",
   "metadata": {},
   "source": [
    "# Question-1"
   ]
  },
  {
   "cell_type": "markdown",
   "metadata": {},
   "source": [
    "# Try 5 Different functions of the String in Python."
   ]
  },
  {
   "cell_type": "code",
   "execution_count": 2,
   "metadata": {},
   "outputs": [
    {
     "name": "stdout",
     "output_type": "stream",
     "text": [
      "TAUSEEF AHMED KHAN IS GOOD CODER\n"
     ]
    }
   ],
   "source": [
    "# Upper function\n",
    "a = \"tauseef ahmed khan is good coder\"\n",
    "print(a.upper())"
   ]
  },
  {
   "cell_type": "code",
   "execution_count": 3,
   "metadata": {},
   "outputs": [
    {
     "name": "stdout",
     "output_type": "stream",
     "text": [
      "saikaran sir is a nice tutor\n"
     ]
    }
   ],
   "source": [
    "# Lower function\n",
    "b = \"SAIKARAN SIR IS A NICE TUTOR\"\n",
    "print(b.lower())"
   ]
  },
  {
   "cell_type": "code",
   "execution_count": 5,
   "metadata": {},
   "outputs": [
    {
     "name": "stdout",
     "output_type": "stream",
     "text": [
      "Tauseef Ahmed Khan lives in Jajpur Road\n"
     ]
    }
   ],
   "source": [
    "# Concatenating two strings\n",
    "name = \"Tauseef Ahmed Khan\"\n",
    "address = \"lives in Jajpur Road\"\n",
    "print(name + \" \" + address)"
   ]
  },
  {
   "cell_type": "code",
   "execution_count": 8,
   "metadata": {},
   "outputs": [
    {
     "name": "stdout",
     "output_type": "stream",
     "text": [
      "6\n"
     ]
    }
   ],
   "source": [
    "# Indexing\n",
    "district = \"Sundergarh\"\n",
    "print (district.index(\"g\"))"
   ]
  },
  {
   "cell_type": "code",
   "execution_count": 13,
   "metadata": {},
   "outputs": [
    {
     "name": "stdout",
     "output_type": "stream",
     "text": [
      "Hello Saikaran\n"
     ]
    }
   ],
   "source": [
    "# Replace\n",
    "s = \"Hello World\"\n",
    "print(s.replace(\"World\" , \"Saikaran\"))"
   ]
  },
  {
   "cell_type": "code",
   "execution_count": 15,
   "metadata": {},
   "outputs": [
    {
     "name": "stdout",
     "output_type": "stream",
     "text": [
      "['Hello', ' World!']\n"
     ]
    }
   ],
   "source": [
    "# Split\n",
    "a = \"Hello, World!\"\n",
    "print(a.split(\",\"))"
   ]
  },
  {
   "cell_type": "markdown",
   "metadata": {},
   "source": [
    "# Question-2"
   ]
  },
  {
   "cell_type": "markdown",
   "metadata": {},
   "source": [
    "# Try 5 Different functions of the List object in Python."
   ]
  },
  {
   "cell_type": "code",
   "execution_count": 18,
   "metadata": {},
   "outputs": [
    {
     "name": "stdout",
     "output_type": "stream",
     "text": [
      "cherry\n"
     ]
    }
   ],
   "source": [
    "# Indexing\n",
    "mylist = [\"apple\", \"banana\", \"cherry\"]\n",
    "print(mylist[2])"
   ]
  },
  {
   "cell_type": "code",
   "execution_count": 20,
   "metadata": {},
   "outputs": [
    {
     "name": "stdout",
     "output_type": "stream",
     "text": [
      "['apple', 'banana', 'cherry', 94, True, 'Devil', 88.7]\n"
     ]
    }
   ],
   "source": [
    "# Concatenating two lists\n",
    "mylist = [\"apple\", \"banana\", \"cherry\"]\n",
    "thislist = [94 , True , \"Devil\" , 88.7]\n",
    "mylist.extend(thislist)\n",
    "print(mylist)"
   ]
  },
  {
   "cell_type": "code",
   "execution_count": 22,
   "metadata": {},
   "outputs": [
    {
     "name": "stdout",
     "output_type": "stream",
     "text": [
      "['Tauseef', 'Samir', 'Pritish', 'Ashish']\n"
     ]
    }
   ],
   "source": [
    "# Changing the value\n",
    "mylist = [\"Tauseef\" , \"Samir\" , \"Pritish\" , \"Soumya\"]\n",
    "mylist[3]=\"Ashish\"\n",
    "print(mylist)"
   ]
  },
  {
   "cell_type": "code",
   "execution_count": 23,
   "metadata": {},
   "outputs": [
    {
     "name": "stdout",
     "output_type": "stream",
     "text": [
      "['choclate', 'pizza', 'ice-cream', 'pancake', 'muffins']\n"
     ]
    }
   ],
   "source": [
    "# Change a range of item values\n",
    "mystore = [\"choclate\" , \"pizza\" , \"burger\" , \"waffers\" , \"muffins\"]\n",
    "mystore[2:4] = [\"ice-cream\" , \"pancake\"]\n",
    "print(mystore)"
   ]
  },
  {
   "cell_type": "code",
   "execution_count": 24,
   "metadata": {},
   "outputs": [
    {
     "name": "stdout",
     "output_type": "stream",
     "text": [
      "['chocolates', 'waffers', 'muffins']\n"
     ]
    }
   ],
   "source": [
    "# Remove\n",
    "myshop = [\"chocolates\" , \"waffers\" , \"burger\" , \"muffins\"]\n",
    "myshop.remove(\"burger\")\n",
    "print(myshop)"
   ]
  },
  {
   "cell_type": "code",
   "execution_count": 25,
   "metadata": {},
   "outputs": [
    {
     "name": "stdout",
     "output_type": "stream",
     "text": [
      "['Machli', 'jal', 'ki', 'rani', 'hai']\n"
     ]
    }
   ],
   "source": [
    "# Reversing \n",
    "mypoem = [\"hai\" , \"rani\" , \"ki\" , \"jal\" , \"Machli\"]\n",
    "mypoem.reverse()\n",
    "print(mypoem)"
   ]
  },
  {
   "cell_type": "markdown",
   "metadata": {},
   "source": [
    "# Question - 3"
   ]
  },
  {
   "cell_type": "markdown",
   "metadata": {},
   "source": [
    "# Experiment with at least 5 default functions of Dictionary."
   ]
  },
  {
   "cell_type": "code",
   "execution_count": 28,
   "metadata": {},
   "outputs": [
    {
     "name": "stdout",
     "output_type": "stream",
     "text": [
      "{}\n"
     ]
    }
   ],
   "source": [
    "# Clear\n",
    "mydict = {\n",
    "  \"brand\": \"Ford\",\n",
    "  \"model\": \"Mustang\",\n",
    "  \"year\": 1964,\n",
    "  \"year\": 2020\n",
    "}\n",
    "mydict.clear()\n",
    "print(mydict)"
   ]
  },
  {
   "cell_type": "code",
   "execution_count": 33,
   "metadata": {},
   "outputs": [
    {
     "name": "stdout",
     "output_type": "stream",
     "text": [
      "{'name': 'Tauseef', 'qualification': 'Graduate', 'branch': 'Mechanical', 'year': 'Fourth'}\n"
     ]
    }
   ],
   "source": [
    "# Update the dictonary\n",
    "mydict = {\n",
    "    \"name\" : \"Tauseef\" ,\n",
    "    \"qualification\" : \"Graduate\" ,\n",
    "    \"branch\" : \"Mechanical\" ,\n",
    "}\n",
    "mydict.update({\"year\" : \"Fourth\"})\n",
    "print(mydict)"
   ]
  },
  {
   "cell_type": "code",
   "execution_count": 37,
   "metadata": {},
   "outputs": [
    {
     "name": "stdout",
     "output_type": "stream",
     "text": [
      "dict_items([('brand', 'Mahindra'), ('model', 'Scorpio'), ('year', 2017)])\n"
     ]
    }
   ],
   "source": [
    "# Items of dictionary\n",
    "car = {\n",
    "  \"brand\": \"Mahindra\",\n",
    "  \"model\": \"Scorpio\",\n",
    "  \"year\": 1955\n",
    "}\n",
    "\n",
    "x = car.items()\n",
    "\n",
    "car[\"year\"] = 2017\n",
    "\n",
    "print(x)"
   ]
  },
  {
   "cell_type": "code",
   "execution_count": 36,
   "metadata": {},
   "outputs": [
    {
     "name": "stdout",
     "output_type": "stream",
     "text": [
      "4\n"
     ]
    }
   ],
   "source": [
    "# Length of dictonary\n",
    "mycar = {\n",
    "  \"brand\": \"Ford\",\n",
    "  \"model\": \"Mustang\",\n",
    "  \"year\": 1964 ,\n",
    "  \"type\" : \"SUV\"\n",
    "}\n",
    "print(len(mycar))"
   ]
  },
  {
   "cell_type": "code",
   "execution_count": 39,
   "metadata": {},
   "outputs": [
    {
     "name": "stdout",
     "output_type": "stream",
     "text": [
      "dict_values(['Mariegold', 'Britania', 2010])\n"
     ]
    }
   ],
   "source": [
    "# Values of dictonary\n",
    "biscuit = {\n",
    "  \"name\": \"Mariegold\",\n",
    "  \"brand\": \"Britania\",\n",
    "  \"year\": 1995\n",
    "}\n",
    "\n",
    "x = biscuit.values()\n",
    "\n",
    "biscuit[\"year\"] = 2010\n",
    "\n",
    "print(x)"
   ]
  },
  {
   "cell_type": "code",
   "execution_count": 40,
   "metadata": {},
   "outputs": [
    {
     "name": "stdout",
     "output_type": "stream",
     "text": [
      "Thumps-up\n"
     ]
    }
   ],
   "source": [
    "# get a value in dictonary\n",
    "drink = {\n",
    "  \"brand\": \"Coca-Cola\",\n",
    "  \"model\": \"Thumps-up\",\n",
    "  \"year\": 1970\n",
    "}\n",
    "y = drink.get(\"model\")\n",
    "print(y)"
   ]
  },
  {
   "cell_type": "code",
   "execution_count": null,
   "metadata": {},
   "outputs": [],
   "source": []
  }
 ],
 "metadata": {
  "kernelspec": {
   "display_name": "Python 3",
   "language": "python",
   "name": "python3"
  },
  "language_info": {
   "codemirror_mode": {
    "name": "ipython",
    "version": 3
   },
   "file_extension": ".py",
   "mimetype": "text/x-python",
   "name": "python",
   "nbconvert_exporter": "python",
   "pygments_lexer": "ipython3",
   "version": "3.8.3"
  }
 },
 "nbformat": 4,
 "nbformat_minor": 4
}
