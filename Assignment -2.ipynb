{
 "cells": [
  {
   "cell_type": "markdown",
   "metadata": {},
   "source": [
    "# Question 1"
   ]
  },
  {
   "cell_type": "markdown",
   "metadata": {},
   "source": [
    "# Use IF ELSE and ELIF to write a program in python for your Report Cards."
   ]
  },
  {
   "cell_type": "code",
   "execution_count": 4,
   "metadata": {},
   "outputs": [
    {
     "name": "stdout",
     "output_type": "stream",
     "text": [
      "Outstanding performance\n"
     ]
    }
   ],
   "source": [
    "math = 86\n",
    "phy = 95\n",
    "chem = 79\n",
    "bio = 96\n",
    "pe = 94\n",
    "eng = 95\n",
    "total = (86 + 95 + 79 + 96 + 94 + 95)\n",
    "if total <= 350:\n",
    "    print(\"Need to improve\")\n",
    "elif total <= 450:\n",
    "    print(\"Just passed\")\n",
    "elif total <= 500:\n",
    "    print(\"Can do better\")\n",
    "elif total > 500:\n",
    "    print(\"Outstanding performance\")\n",
    "else:\n",
    "    print(\"Sorry you failed\")"
   ]
  },
  {
   "cell_type": "markdown",
   "metadata": {},
   "source": [
    "# Question 2"
   ]
  },
  {
   "cell_type": "markdown",
   "metadata": {},
   "source": [
    "# Use For Loop to Print Prime Numbers in between 1 to 1000."
   ]
  },
  {
   "cell_type": "code",
   "execution_count": 5,
   "metadata": {},
   "outputs": [
    {
     "name": "stdout",
     "output_type": "stream",
     "text": [
      " 2   3   5   7   11   13   17   19   23   29   31   37   41   43   47   53   59   61   67   71   73   79   83   89   97   101   103   107   109   113   127   131   137   139   149   151   157   163   167   173   179   181   191   193   197   199   211   223   227   229   233   239   241   251   257   263   269   271   277   281   283   293   307   311   313   317   331   337   347   349   353   359   367   373   379   383   389   397   401   409   419   421   431   433   439   443   449   457   461   463   467   479   487   491   499   503   509   521   523   541   547   557   563   569   571   577   587   593   599   601   607   613   617   619   631   641   643   647   653   659   661   673   677   683   691   701   709   719   727   733   739   743   751   757   761   769   773   787   797   809   811   821   823   827   829   839   853   857   859   863   877   881   883   887   907   911   919   929   937   941   947   953   967   971   977   983   991   997  "
     ]
    }
   ],
   "source": [
    "for Number in range (1, 1000):\n",
    "    count = 0\n",
    "    for i in range(2, (Number//2 + 1)):\n",
    "        if(Number % i == 0):\n",
    "            count = count + 1\n",
    "            break\n",
    "\n",
    "    if (count == 0 and Number != 1):\n",
    "        print(\" %d\" %Number, end = '  ')"
   ]
  },
  {
   "cell_type": "markdown",
   "metadata": {},
   "source": [
    "# Question 3"
   ]
  },
  {
   "cell_type": "markdown",
   "metadata": {},
   "source": [
    "# Write a program for printing the tables from 1,10 using Nested For Loop"
   ]
  },
  {
   "cell_type": "code",
   "execution_count": 6,
   "metadata": {},
   "outputs": [
    {
     "name": "stdout",
     "output_type": "stream",
     "text": [
      "1   2   3   4   5   6   7   8   9   10   \n",
      "2   4   6   8   10   12   14   16   18   20   \n",
      "3   6   9   12   15   18   21   24   27   30   \n",
      "4   8   12   16   20   24   28   32   36   40   \n",
      "5   10   15   20   25   30   35   40   45   50   \n",
      "6   12   18   24   30   36   42   48   54   60   \n",
      "7   14   21   28   35   42   49   56   63   70   \n",
      "8   16   24   32   40   48   56   64   72   80   \n",
      "9   18   27   36   45   54   63   72   81   90   \n",
      "10   20   30   40   50   60   70   80   90   100   \n"
     ]
    }
   ],
   "source": [
    "for i in range(1 , 11):\n",
    "    for j in range (1 , 11):\n",
    "        print(i*j,\" \" , end=' ')\n",
    "    print()"
   ]
  },
  {
   "cell_type": "markdown",
   "metadata": {},
   "source": [
    "# Question 4"
   ]
  },
  {
   "cell_type": "markdown",
   "metadata": {},
   "source": [
    "# Write a program to Print X Prime Numbers using While Loop starting from 0, and take the INput of X from the user"
   ]
  },
  {
   "cell_type": "code",
   "execution_count": 11,
   "metadata": {},
   "outputs": [
    {
     "name": "stdout",
     "output_type": "stream",
     "text": [
      "Enter a number100\n",
      "2\n",
      "4\n",
      "5\n",
      "10\n",
      "20\n",
      "25\n",
      "50\n",
      "Total number of factors are 7\n"
     ]
    }
   ],
   "source": [
    "n = int(input(\"Enter a number\"))\n",
    "f = 0\n",
    "i = 2\n",
    "while(i<n):\n",
    "    if(n%i==0):\n",
    "        print(i)\n",
    "        f+=1\n",
    "    i+=1\n",
    "if(f==0):\n",
    "    print(\"It is a prime no\")\n",
    "else:\n",
    "    print(\"Total number of factors are\" , f)"
   ]
  }
 ],
 "metadata": {
  "kernelspec": {
   "display_name": "Python 3",
   "language": "python",
   "name": "python3"
  },
  "language_info": {
   "codemirror_mode": {
    "name": "ipython",
    "version": 3
   },
   "file_extension": ".py",
   "mimetype": "text/x-python",
   "name": "python",
   "nbconvert_exporter": "python",
   "pygments_lexer": "ipython3",
   "version": "3.8.3"
  }
 },
 "nbformat": 4,
 "nbformat_minor": 4
}
