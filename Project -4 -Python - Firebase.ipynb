{
 "cells": [
  {
   "cell_type": "code",
   "execution_count": 1,
   "metadata": {},
   "outputs": [],
   "source": [
    "# Lets read and write to real - time Database to server Like FireBase"
   ]
  },
  {
   "cell_type": "raw",
   "metadata": {},
   "source": [
    "Firebase is a platform developed by Google for creating mobile and web applications. It was originally an independent company founded in 2011. In 2014, Google acquired the platform and it is now their flagship offering for app development."
   ]
  },
  {
   "cell_type": "raw",
   "metadata": {},
   "source": [
    "Every app or website requires two things in common :\n",
    "\n",
    "1. Authentication\n",
    "2. Database \n",
    "Zomato , Uber , Big Basket ,JIO"
   ]
  },
  {
   "cell_type": "raw",
   "metadata": {},
   "source": [
    "If a developer wants to develop Database and Auth by themselves, \n",
    "it takes time (Generally 10,20 Days)"
   ]
  },
  {
   "cell_type": "raw",
   "metadata": {},
   "source": [
    "If we are a small scale company or start-up , we can't \n",
    "afford so much time , Right?\n",
    "So we want some solution, which provides us Auth And DB\n",
    "instantly,\n",
    "\n",
    "With efforts , so that system is Firebase"
   ]
  },
  {
   "cell_type": "code",
   "execution_count": 3,
   "metadata": {},
   "outputs": [
    {
     "name": "stdout",
     "output_type": "stream",
     "text": [
      "Requirement already up-to-date: firebase-admin in c:\\users\\home\\anaconda3\\lib\\site-packages (4.5.0)\n",
      "Requirement already satisfied, skipping upgrade: google-cloud-firestore>=1.4.0; platform_python_implementation != \"PyPy\" in c:\\users\\home\\anaconda3\\lib\\site-packages (from firebase-admin) (2.0.2)\n",
      "Requirement already satisfied, skipping upgrade: cachecontrol>=0.12.6 in c:\\users\\home\\anaconda3\\lib\\site-packages (from firebase-admin) (0.12.6)\n",
      "Requirement already satisfied, skipping upgrade: google-cloud-storage>=1.18.0 in c:\\users\\home\\anaconda3\\lib\\site-packages (from firebase-admin) (1.35.0)\n",
      "Requirement already satisfied, skipping upgrade: google-api-core[grpc]<2.0.0dev,>=1.14.0; platform_python_implementation != \"PyPy\" in c:\\users\\home\\anaconda3\\lib\\site-packages (from firebase-admin) (1.24.1)\n",
      "Requirement already satisfied, skipping upgrade: google-api-python-client>=1.7.8 in c:\\users\\home\\anaconda3\\lib\\site-packages (from firebase-admin) (1.12.8)\n",
      "Requirement already satisfied, skipping upgrade: pytz in c:\\users\\home\\anaconda3\\lib\\site-packages (from google-cloud-firestore>=1.4.0; platform_python_implementation != \"PyPy\"->firebase-admin) (2020.1)\n",
      "Requirement already satisfied, skipping upgrade: google-cloud-core<2.0dev,>=1.4.1 in c:\\users\\home\\anaconda3\\lib\\site-packages (from google-cloud-firestore>=1.4.0; platform_python_implementation != \"PyPy\"->firebase-admin) (1.5.0)\n",
      "Requirement already satisfied, skipping upgrade: proto-plus>=1.3.0 in c:\\users\\home\\anaconda3\\lib\\site-packages (from google-cloud-firestore>=1.4.0; platform_python_implementation != \"PyPy\"->firebase-admin) (1.13.0)\n",
      "Requirement already satisfied, skipping upgrade: requests in c:\\users\\home\\anaconda3\\lib\\site-packages (from cachecontrol>=0.12.6->firebase-admin) (2.24.0)\n",
      "Requirement already satisfied, skipping upgrade: msgpack>=0.5.2 in c:\\users\\home\\anaconda3\\lib\\site-packages (from cachecontrol>=0.12.6->firebase-admin) (1.0.0)\n",
      "Requirement already satisfied, skipping upgrade: google-resumable-media<2.0dev,>=1.2.0 in c:\\users\\home\\anaconda3\\lib\\site-packages (from google-cloud-storage>=1.18.0->firebase-admin) (1.2.0)\n",
      "Requirement already satisfied, skipping upgrade: google-auth<2.0dev,>=1.11.0 in c:\\users\\home\\anaconda3\\lib\\site-packages (from google-cloud-storage>=1.18.0->firebase-admin) (1.24.0)\n",
      "Requirement already satisfied, skipping upgrade: six>=1.13.0 in c:\\users\\home\\anaconda3\\lib\\site-packages (from google-api-core[grpc]<2.0.0dev,>=1.14.0; platform_python_implementation != \"PyPy\"->firebase-admin) (1.15.0)\n",
      "Requirement already satisfied, skipping upgrade: setuptools>=34.0.0 in c:\\users\\home\\anaconda3\\lib\\site-packages (from google-api-core[grpc]<2.0.0dev,>=1.14.0; platform_python_implementation != \"PyPy\"->firebase-admin) (49.2.0.post20200714)\n",
      "Requirement already satisfied, skipping upgrade: googleapis-common-protos<2.0dev,>=1.6.0 in c:\\users\\home\\anaconda3\\lib\\site-packages (from google-api-core[grpc]<2.0.0dev,>=1.14.0; platform_python_implementation != \"PyPy\"->firebase-admin) (1.52.0)\n",
      "Requirement already satisfied, skipping upgrade: protobuf>=3.12.0 in c:\\users\\home\\anaconda3\\lib\\site-packages (from google-api-core[grpc]<2.0.0dev,>=1.14.0; platform_python_implementation != \"PyPy\"->firebase-admin) (3.14.0)\n",
      "Requirement already satisfied, skipping upgrade: grpcio<2.0dev,>=1.29.0; extra == \"grpc\" in c:\\users\\home\\anaconda3\\lib\\site-packages (from google-api-core[grpc]<2.0.0dev,>=1.14.0; platform_python_implementation != \"PyPy\"->firebase-admin) (1.34.0)\n",
      "Requirement already satisfied, skipping upgrade: google-auth-httplib2>=0.0.3 in c:\\users\\home\\anaconda3\\lib\\site-packages (from google-api-python-client>=1.7.8->firebase-admin) (0.0.4)\n",
      "Requirement already satisfied, skipping upgrade: uritemplate<4dev,>=3.0.0 in c:\\users\\home\\anaconda3\\lib\\site-packages (from google-api-python-client>=1.7.8->firebase-admin) (3.0.1)\n",
      "Requirement already satisfied, skipping upgrade: httplib2<1dev,>=0.15.0 in c:\\users\\home\\anaconda3\\lib\\site-packages (from google-api-python-client>=1.7.8->firebase-admin) (0.18.1)\n",
      "Requirement already satisfied, skipping upgrade: chardet<4,>=3.0.2 in c:\\users\\home\\anaconda3\\lib\\site-packages (from requests->cachecontrol>=0.12.6->firebase-admin) (3.0.4)\n",
      "Requirement already satisfied, skipping upgrade: urllib3!=1.25.0,!=1.25.1,<1.26,>=1.21.1 in c:\\users\\home\\anaconda3\\lib\\site-packages (from requests->cachecontrol>=0.12.6->firebase-admin) (1.25.9)\n",
      "Requirement already satisfied, skipping upgrade: certifi>=2017.4.17 in c:\\users\\home\\anaconda3\\lib\\site-packages (from requests->cachecontrol>=0.12.6->firebase-admin) (2020.6.20)\n",
      "Requirement already satisfied, skipping upgrade: idna<3,>=2.5 in c:\\users\\home\\anaconda3\\lib\\site-packages (from requests->cachecontrol>=0.12.6->firebase-admin) (2.10)\n",
      "Requirement already satisfied, skipping upgrade: google-crc32c<2.0dev,>=1.0; python_version >= \"3.5\" in c:\\users\\home\\anaconda3\\lib\\site-packages (from google-resumable-media<2.0dev,>=1.2.0->google-cloud-storage>=1.18.0->firebase-admin) (1.1.0)\n",
      "Requirement already satisfied, skipping upgrade: rsa<5,>=3.1.4; python_version >= \"3.6\" in c:\\users\\home\\anaconda3\\lib\\site-packages (from google-auth<2.0dev,>=1.11.0->google-cloud-storage>=1.18.0->firebase-admin) (4.6)\n",
      "Requirement already satisfied, skipping upgrade: pyasn1-modules>=0.2.1 in c:\\users\\home\\anaconda3\\lib\\site-packages (from google-auth<2.0dev,>=1.11.0->google-cloud-storage>=1.18.0->firebase-admin) (0.2.8)\n",
      "Requirement already satisfied, skipping upgrade: cachetools<5.0,>=2.0.0 in c:\\users\\home\\anaconda3\\lib\\site-packages (from google-auth<2.0dev,>=1.11.0->google-cloud-storage>=1.18.0->firebase-admin) (4.2.0)\n",
      "Requirement already satisfied, skipping upgrade: pyasn1>=0.1.3 in c:\\users\\home\\anaconda3\\lib\\site-packages (from rsa<5,>=3.1.4; python_version >= \"3.6\"->google-auth<2.0dev,>=1.11.0->google-cloud-storage>=1.18.0->firebase-admin) (0.4.8)\n"
     ]
    }
   ],
   "source": [
    "# Step 1\n",
    "!pip install --upgrade firebase-admin"
   ]
  },
  {
   "cell_type": "code",
   "execution_count": 4,
   "metadata": {},
   "outputs": [],
   "source": [
    "# Step 2 \n",
    "# Create a Project in Firebase"
   ]
  },
  {
   "cell_type": "code",
   "execution_count": 5,
   "metadata": {},
   "outputs": [],
   "source": [
    "# Step 3 - Import Firebase\n",
    "import firebase_admin"
   ]
  },
  {
   "cell_type": "code",
   "execution_count": 6,
   "metadata": {},
   "outputs": [],
   "source": [
    "# Step -4\n",
    "from firebase_admin import credentials\n",
    "from firebase_admin import firestore"
   ]
  },
  {
   "cell_type": "code",
   "execution_count": 7,
   "metadata": {},
   "outputs": [],
   "source": [
    "# Step 5 - Download the cred key from the Firebase"
   ]
  },
  {
   "cell_type": "code",
   "execution_count": 8,
   "metadata": {},
   "outputs": [],
   "source": [
    "# Step 6 - place it in your folder where the \n",
    "# Firebase project is happening"
   ]
  },
  {
   "cell_type": "code",
   "execution_count": 9,
   "metadata": {},
   "outputs": [
    {
     "data": {
      "text/plain": [
       "<firebase_admin.App at 0x27aa8cdbb50>"
      ]
     },
     "execution_count": 9,
     "metadata": {},
     "output_type": "execute_result"
    }
   ],
   "source": [
    "cred = credentials.Certificate(\"python--demo-firebase-adminsdk-e1yx9-571cf60e02.json\")\n",
    "firebase_admin.initialize_app(cred)"
   ]
  },
  {
   "cell_type": "code",
   "execution_count": 10,
   "metadata": {},
   "outputs": [],
   "source": [
    "db = firestore.client()"
   ]
  },
  {
   "cell_type": "code",
   "execution_count": 11,
   "metadata": {},
   "outputs": [
    {
     "data": {
      "text/plain": [
       "update_time {\n",
       "  seconds: 1608355267\n",
       "  nanos: 379121000\n",
       "}"
      ]
     },
     "execution_count": 11,
     "metadata": {},
     "output_type": "execute_result"
    }
   ],
   "source": [
    "doc_ref = db.collection(u'users').document(u'abc')\n",
    "doc_ref.set({\n",
    "    u'first': u'Faizan',\n",
    "    u'last': u'Gokak',\n",
    "    u'born': 1997\n",
    "})"
   ]
  },
  {
   "cell_type": "code",
   "execution_count": 12,
   "metadata": {},
   "outputs": [],
   "source": [
    "# Step 7\n",
    "def enterDataInDb(name,lastName,age):\n",
    "    doc_ref = db.collection(u'LetsUpgradeUsers').document()\n",
    "    dit= {}\n",
    "    dit[\"firstName\"] = name\n",
    "    dit[\"lastName\"] = lastName\n",
    "    dit[\"age\"] = age\n",
    "    \n",
    "    doc_ref.set(dit)"
   ]
  },
  {
   "cell_type": "code",
   "execution_count": 13,
   "metadata": {},
   "outputs": [],
   "source": [
    "enterDataInDb(\"sai\" , \"lu\" , 90)"
   ]
  },
  {
   "cell_type": "code",
   "execution_count": 14,
   "metadata": {},
   "outputs": [],
   "source": [
    "enterDataInDb(\"tau\" , \"tk\" , 1997)"
   ]
  },
  {
   "cell_type": "code",
   "execution_count": 15,
   "metadata": {},
   "outputs": [],
   "source": [
    "# Step 8 - Read data from Firebase DB ( Firestore )"
   ]
  },
  {
   "cell_type": "code",
   "execution_count": 16,
   "metadata": {},
   "outputs": [
    {
     "name": "stdout",
     "output_type": "stream",
     "text": [
      "Ty0J0RNCnxGZOmkQS5C5 => {'age': 1997, 'firstName': 'tau', 'lastName': 'tk'}\n",
      "mJRG06mBZuNXLFDeUDd2 => {'firstName': 'sai', 'age': 90, 'lastName': 'lu'}\n"
     ]
    }
   ],
   "source": [
    "docs = db.collection(u'LetsUpgradeUsers').stream()\n",
    "\n",
    "for doc in docs:\n",
    "    print(f'{doc.id} => {doc.to_dict()}') "
   ]
  },
  {
   "cell_type": "code",
   "execution_count": 20,
   "metadata": {},
   "outputs": [],
   "source": [
    "# Step 9 - Update a Entry ->\n",
    "def updateDatainFirebase (uid , updatedAge):\n",
    "    doc_ref = db.collection(u'LetsUpgradeUsers').document(uid)\n",
    "   \n",
    "    \n",
    "    doc_ref.update({\"age\" : updatedAge})"
   ]
  },
  {
   "cell_type": "code",
   "execution_count": 22,
   "metadata": {},
   "outputs": [],
   "source": [
    "updateDatainFirebase(\"mJRG06mBZuNXLFDeUDd2\" , 33)"
   ]
  },
  {
   "cell_type": "code",
   "execution_count": 2,
   "metadata": {},
   "outputs": [],
   "source": [
    "# Step 10 - Delete a Data from firebase\n",
    "def deleteDataInFirebase(uid):\n",
    "    db.collection(u'LetsUpgradeUsers').document(uid).delete()"
   ]
  },
  {
   "cell_type": "code",
   "execution_count": null,
   "metadata": {},
   "outputs": [],
   "source": [
    "deleteDataInFirebase(\"mJRG06mBZuNXLFDeUDd2\")"
   ]
  },
  {
   "cell_type": "code",
   "execution_count": null,
   "metadata": {},
   "outputs": [],
   "source": []
  }
 ],
 "metadata": {
  "kernelspec": {
   "display_name": "Python 3",
   "language": "python",
   "name": "python3"
  },
  "language_info": {
   "codemirror_mode": {
    "name": "ipython",
    "version": 3
   },
   "file_extension": ".py",
   "mimetype": "text/x-python",
   "name": "python",
   "nbconvert_exporter": "python",
   "pygments_lexer": "ipython3",
   "version": "3.8.3"
  }
 },
 "nbformat": 4,
 "nbformat_minor": 4
}
